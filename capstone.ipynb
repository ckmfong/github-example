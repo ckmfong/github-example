{
 "cells": [
  {
   "cell_type": "markdown",
   "metadata": {},
   "source": [
    "<h1>Capstone Project - The Battle of Neighbourhoods</h1>\n",
    "\n",
    "<h2> Introduction </h2>\n",
    "Canada is one of the most popular places for immigration for Hong Kong citizens. The Chinese Canadian population has been growing since 1960s due to the changes in immigration law and political issues in Hong Kong. The Chinese has established many shops and restuarants to cater their population. As the capital of the province of Ontario, many immigrants favour Toronto as their port of entry. In this project, we would be finding the neighbourhood with the best Chinese resturants in Toronto. This would be valuable for new comers joining the community who prefer to have Chinese food.\n",
    "\n",
    "\n",
    "<h2> Data </h2>\n",
    "For this project we need the following data :\n",
    "\n",
    "* **Toronto city data** that contains list Boroughs, Neighborhoods along with their latitude and longitude.\n",
    "Data source : http://cocl.us/Geospatial_data\n",
    "<br/>Description : This data set contains the required information. And we will use this data set to explore various neighborhoods of Toronto city.\n",
    "Chinese resturants in each neighborhood of Toronto.\n",
    "\n",
    "* **Fousquare API**\n",
    "<br/>Description : By using this api we will get all the venues in each neighborhood. We can filter these venues to get only Chinese resturants.\n",
    "\n",
    "* **City of Toronto Neighborhood Shapes for mapping**\n",
    "<br/>Data source : https://ckan0.cf.opendata.inter.sandbox-toronto.ca/download_resource/1d02b0f0-d735-4469-8f71-ea6d96b319e4?format=geojson&projection=4326\n",
    "<br/> Description : By using this data we will get the Toronto neighbourhood boundaries that will help us visualize choropleth map.\n"
   ]
  },
  {
   "cell_type": "code",
   "execution_count": null,
   "metadata": {},
   "outputs": [],
   "source": []
  }
 ],
 "metadata": {
  "kernelspec": {
   "display_name": "Python 3",
   "language": "python",
   "name": "python3"
  },
  "language_info": {
   "codemirror_mode": {
    "name": "ipython",
    "version": 3
   },
   "file_extension": ".py",
   "mimetype": "text/x-python",
   "name": "python",
   "nbconvert_exporter": "python",
   "pygments_lexer": "ipython3",
   "version": "3.7.3"
  }
 },
 "nbformat": 4,
 "nbformat_minor": 2
}
